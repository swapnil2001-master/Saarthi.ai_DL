{
  "nbformat": 4,
  "nbformat_minor": 0,
  "metadata": {
    "accelerator": "GPU",
    "colab": {
      "name": "Saarthiai.ipynb",
      "provenance": [],
      "collapsed_sections": []
    },
    "kernelspec": {
      "display_name": "Python 3",
      "name": "python3"
    },
    "language_info": {
      "name": "python"
    }
  },
  "cells": [
    {
      "cell_type": "code",
      "metadata": {
        "id": "Wp3i394U2IpT"
      },
      "source": [
        "from google.colab import drive\n",
        "drive.mount('/content/drive')"
      ],
      "execution_count": null,
      "outputs": []
    },
    {
      "cell_type": "code",
      "metadata": {
        "id": "zqCl9Sau1_LM"
      },
      "source": [
        "import tensorflow as tf\n",
        "import tensorflow_hub as hub\n",
        "import datetime, os\n",
        "import pandas as pd\n",
        "import numpy as np"
      ],
      "execution_count": null,
      "outputs": []
    },
    {
      "cell_type": "code",
      "metadata": {
        "id": "Hbv_5gsWJ7rJ"
      },
      "source": [
        "%load_ext tensorboard"
      ],
      "execution_count": null,
      "outputs": []
    },
    {
      "cell_type": "markdown",
      "metadata": {
        "id": "aR53YNTdIs_Q"
      },
      "source": [
        "# GPU Setup"
      ]
    },
    {
      "cell_type": "code",
      "metadata": {
        "id": "_7pRiRY7IsdY"
      },
      "source": [
        "print(\"Number of GPU's:\",len(tf.config.list_physical_devices('GPU')))\n",
        "!nvidia-smi"
      ],
      "execution_count": null,
      "outputs": []
    },
    {
      "cell_type": "code",
      "metadata": {
        "id": "_OpGbPiF2En4"
      },
      "source": [
        "data  = pd.read_csv('/content/drive/MyDrive/Saarthi ai/train_data.csv')\n",
        "val_data = pd.read_csv('/content/drive/MyDrive/Saarthi ai/valid_data.csv')"
      ],
      "execution_count": null,
      "outputs": []
    },
    {
      "cell_type": "code",
      "metadata": {
        "id": "87PlHpo53MZ_"
      },
      "source": [
        "action_labels = list(set(data['action'])) # 6\n",
        "object_labels = list(set(data['object'])) # 14\n",
        "location_labels = list(set(data['location'])) # 4\n",
        "a_map = {action_labels[i] : i for i in range(len(action_labels))}\n",
        "o_map = {object_labels[i] : i for i in range(len(object_labels))}\n",
        "l_map = {location_labels[i] : i for i in range(len(location_labels))}"
      ],
      "execution_count": null,
      "outputs": []
    },
    {
      "cell_type": "code",
      "metadata": {
        "id": "FG-JPfK634mM"
      },
      "source": [
        "X = list(data['transcription'])\n",
        "Y1 = list(data['action'])\n",
        "Y2 = list(data['object'])\n",
        "Y3 = list(data['location'])\n",
        "Y1 = np.array([a_map[x] for x in Y1])\n",
        "Y2 = np.array([o_map[x] for x in Y2])\n",
        "Y3 = np.array([l_map[x] for x in Y3])"
      ],
      "execution_count": null,
      "outputs": []
    },
    {
      "cell_type": "code",
      "metadata": {
        "id": "J-1OluTQNDPF"
      },
      "source": [
        "val_X = list(val_data['transcription'])\n",
        "val_Y1 = list(val_data['action'])\n",
        "val_Y2 = list(val_data['object'])\n",
        "val_Y3 = list(val_data['location'])\n",
        "v_Y1 = np.array([a_map[x] for x in val_Y1])\n",
        "v_Y2 = np.array([o_map[x] for x in val_Y2])\n",
        "v_Y3 = np.array([l_map[x] for x in val_Y3])"
      ],
      "execution_count": null,
      "outputs": []
    },
    {
      "cell_type": "markdown",
      "metadata": {
        "id": "2IE79bd05fHI"
      },
      "source": [
        "Model"
      ]
    },
    {
      "cell_type": "code",
      "metadata": {
        "id": "McmxvLXl7hjQ"
      },
      "source": [
        "base_layer_1 = hub.KerasLayer('https://tfhub.dev/google/universal-sentence-encoder/4',trainable = False)"
      ],
      "execution_count": null,
      "outputs": []
    },
    {
      "cell_type": "code",
      "metadata": {
        "id": "6R2hK-oZ4Ugj"
      },
      "source": [
        "inputs = tf.keras.layers.Input(shape = [], dtype = tf.string , name = 'Transcription')\n",
        "\n",
        "base_model_layer = base_layer_1(inputs)\n",
        "lam_layer = tf.keras.layers.Lambda(lambda x : tf.expand_dims(x, axis =1))(base_model_layer)\n",
        "x = tf.keras.layers.LSTM(256)(lam_layer)\n",
        "x = tf.keras.layers.Dense(128, activation= 'relu')(x)\n",
        "\n",
        "\n",
        "o1 = tf.keras.layers.Dense(6,activation='softmax',name='Action')(x)\n",
        "o2 = tf.keras.layers.Dense(14,activation='softmax',name='Object')(x)\n",
        "o3 = tf.keras.layers.Dense(4,activation='softmax',name = 'Location')(x)\n",
        "out = [o1,o2,o3]\n",
        "\n",
        "conv_model = tf.keras.Model(inputs, out)\n",
        "conv_model.summary()"
      ],
      "execution_count": null,
      "outputs": []
    },
    {
      "cell_type": "code",
      "metadata": {
        "id": "RlNNPkEwJeet"
      },
      "source": [
        "  logdir = os.path.join(\"logs\", datetime.datetime.now().strftime(\"%Y%m%d-%H%M%S\"))\n",
        "  tensorboard_callback = tf.keras.callbacks.TensorBoard(logdir, histogram_freq=1)"
      ],
      "execution_count": null,
      "outputs": []
    },
    {
      "cell_type": "code",
      "metadata": {
        "id": "eTd95aos5Qby"
      },
      "source": [
        "conv_model.compile(loss =tf.keras.losses.sparse_categorical_crossentropy, \n",
        "              optimizer = tf.keras.optimizers.Adam(), \n",
        "              metrics = 'accuracy')"
      ],
      "execution_count": null,
      "outputs": []
    },
    {
      "cell_type": "markdown",
      "metadata": {
        "id": "8OMX4cp95dRN"
      },
      "source": [
        "Training"
      ]
    },
    {
      "cell_type": "code",
      "metadata": {
        "id": "eYdzTNo85cGM"
      },
      "source": [
        "conv_model.fit(x=np.array(X),y =(Y1,Y2,Y3),validation_data=(np.array(val_X), (v_Y1,v_Y2,v_Y3)), epochs = 10 , batch_size=64,callbacks=[tensorboard_callback])"
      ],
      "execution_count": null,
      "outputs": []
    },
    {
      "cell_type": "code",
      "metadata": {
        "id": "O6TvFRNwVI_c"
      },
      "source": [
        "import shutil\n",
        "shutil.make_archive('logs', 'zip', 'logs')"
      ],
      "execution_count": null,
      "outputs": []
    },
    {
      "cell_type": "code",
      "metadata": {
        "id": "C3QbGsteJus7"
      },
      "source": [
        "%tensorboard --logdir logs"
      ],
      "execution_count": null,
      "outputs": []
    },
    {
      "cell_type": "code",
      "metadata": {
        "id": "inkGJLYZCWxj"
      },
      "source": [
        "outs = conv_model.predict(val_X)"
      ],
      "execution_count": null,
      "outputs": []
    },
    {
      "cell_type": "code",
      "metadata": {
        "id": "ldtemTMHC0jy"
      },
      "source": [
        "o1 = np.argmax(outs[0],axis=1)\n",
        "o2 = np.argmax(outs[1],axis=1)\n",
        "o3 = np.argmax(outs[2],axis=1)"
      ],
      "execution_count": null,
      "outputs": []
    },
    {
      "cell_type": "code",
      "metadata": {
        "id": "Qs9ot07MDUCk"
      },
      "source": [
        "O1 = [action_labels[x] for x in o1]\n",
        "O2 = [object_labels[x] for x in o2]\n",
        "O3 = [location_labels[x] for x in o3]"
      ],
      "execution_count": null,
      "outputs": []
    },
    {
      "cell_type": "code",
      "metadata": {
        "id": "w-cARyfYs9O5"
      },
      "source": [
        ""
      ],
      "execution_count": null,
      "outputs": []
    }
  ]
}